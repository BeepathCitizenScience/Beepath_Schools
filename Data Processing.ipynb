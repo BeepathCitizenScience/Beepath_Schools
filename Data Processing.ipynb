{
 "cells": [
  {
   "cell_type": "code",
   "execution_count": null,
   "id": "advised-surprise",
   "metadata": {},
   "outputs": [],
   "source": [
    "import networkx as nx\n",
    "import osmnx as ox\n",
    "import matplotlib.pyplot as plt\n",
    "import pandas as pd\n",
    "import numpy as np\n",
    "import glob\n",
    "import os\n",
    "\n",
    "#%matplotlib inline\n",
    "ox.config(log_console=True)\n",
    "ox.__version__\n",
    "\n",
    "\n"
   ]
  },
  {
   "cell_type": "markdown",
   "id": "continuing-clothing",
   "metadata": {},
   "source": [
    "## Stage 1: Remove non-pedestrian journeys\n",
    "\n",
    "We remove all non-pedestrian journeys for this study, by looking at the nickname of each participant, where the means of transport is indicated.\n",
    "\n",
    "Ex:  2018-11-05_sgv_1302_bus.csv"
   ]
  },
  {
   "cell_type": "markdown",
   "id": "charming-daniel",
   "metadata": {},
   "source": [
    "## Stage 2: Remove invalid journeys\n",
    "\n",
    "Remove all erroneous trajectories/journeys (few GPS locs. without a clear trajectory)"
   ]
  },
  {
   "cell_type": "markdown",
   "id": "bearing-camera",
   "metadata": {},
   "source": [
    "## Stage 3: Remove outliers"
   ]
  },
  {
   "cell_type": "markdown",
   "id": "naughty-watershed",
   "metadata": {},
   "source": [
    "We clean each journey from the possible outliers that may appear (specially at the initial/end of the trajectory) due to the gps connexion or so."
   ]
  },
  {
   "cell_type": "markdown",
   "id": "conservative-animal",
   "metadata": {},
   "source": [
    "## Linear Interpolation"
   ]
  },
  {
   "cell_type": "code",
   "execution_count": null,
   "id": "blank-reggae",
   "metadata": {},
   "outputs": [],
   "source": [
    "\"\"\" We are interested in to have all the data separated uniformly in time (1 second). For this reason, we interpolate linearly\n",
    "    the data to predict the geo-locations at those \"temporal gaps\" where the time difference is greater than 1 second.\n",
    "    \n",
    "    In other words, if two geolocations are separated by more than 1 second (for instance, two seconds) we perform a linear\n",
    "    interpolation, creating the time in between with the new geolocation.\n",
    "    \n",
    "    To do that, we must first convert the time column into index, then resample it to every 1 second, and fullfil the rows\n",
    "    of geolocations that are missing predicting the values with a straight line.\n",
    "\n",
    "\"\"\"\n",
    "\n",
    "df = pd.read_csv(file) #read the file     \n",
    "df2=df.copy() \n",
    "\n",
    "\n",
    "df2['time'] = pd.to_datetime(df2['time'])   # Time to datetime format\n",
    "df2.index = df2['time']  # Then convert the column time into index\n",
    "\n",
    "del df2['time']  # delete all the columns of the dataframe less the coordinates (latitude and longitude)\n",
    "del df2['nickname']\n",
    "del df2['At']\n",
    "del df2['d']\n",
    "del df2['v']\n",
    "\n",
    "df2=df2.resample('1S').asfreq().interpolate()     # Resample the index of times every 1 second (1S) and interpolate linearly\n",
    "df2.reset_index(level=0, inplace=True)            # the missing values of the latitude and longitude. Then reset index.\n",
    "\n"
   ]
  },
  {
   "cell_type": "code",
   "execution_count": null,
   "id": "sought-olympus",
   "metadata": {},
   "outputs": [],
   "source": []
  }
 ],
 "metadata": {
  "kernelspec": {
   "display_name": "Python 3",
   "language": "python",
   "name": "python3"
  },
  "language_info": {
   "codemirror_mode": {
    "name": "ipython",
    "version": 3
   },
   "file_extension": ".py",
   "mimetype": "text/x-python",
   "name": "python",
   "nbconvert_exporter": "python",
   "pygments_lexer": "ipython3",
   "version": "3.9.2"
  }
 },
 "nbformat": 4,
 "nbformat_minor": 5
}
