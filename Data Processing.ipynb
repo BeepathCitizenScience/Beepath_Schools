{
 "cells": [
  {
   "cell_type": "markdown",
   "id": "several-optimization",
   "metadata": {},
   "source": [
    "### We process and clean the original data in order to prepare them for the study. The original data is composed by 161,009 GPS locations corresponding to 262 users from the 10 schools. However, a great number of participants used a different transport method for the study rather than walking. Furthermore, there are several trajectories that were not correctly recorded (with just few GPS locations and no clear path). Finally, we also need to clean each individual path from outliers, that mainly appear and the beginning and the end of the trajectory due to the GPS connection. \n",
    "\n",
    "### So after cleaning the data, we have just 83 participants and 36,091 GPS locations. All the participants' data-set are saved in a .csv file, adding three new columns for the time difference between Geo-locations, the Euclidean distance and the instantaneous velocity.\n",
    "\n",
    "### Finally, in a four stage we also perform linear interpolation between GPS locations in order to have all of them uniformly separated by 1 second. We save a new .csv file with the interpolated data."
   ]
  },
  {
   "cell_type": "code",
   "execution_count": 7,
   "id": "advised-surprise",
   "metadata": {},
   "outputs": [],
   "source": [
    "import networkx as nx\n",
    "import osmnx as ox\n",
    "import matplotlib.pyplot as plt\n",
    "import pandas as pd\n",
    "import numpy as np\n",
    "import glob\n",
    "import os\n",
    "from math import sin, cos, sqrt, atan2, radians\n",
    "\n",
    "#%matplotlib inline\n",
    "ox.config(log_console=True)\n",
    "ox.__version__\n",
    "\n",
    "\n",
    "def getDistanceFromLatLonInM(lat1,lon1,lat2,lon2):\n",
    "    \"\"\" Function that returns the distance in metres between 2 GPS locations in degrees (latitude and longitude).\n",
    "    It is based in the Haversine formula (https://en.wikipedia.org/wiki/Haversine_formula) which takes into account the\n",
    "    Earth's curvature. \n",
    "    \n",
    "    Input:\n",
    "        - 2 GPS coordinates: (latitude1,longitude1) of the first point and (latitude2,longitude2) of the second point. \n",
    "        \n",
    "    Output:\n",
    "        - Distance in metres between the two GPS locations.\n",
    "    \"\"\"\n",
    "    \n",
    "    R = 6371 # Radius of the earth in km\n",
    "    dLat = radians(lat2-lat1)\n",
    "    dLon = radians(lon2-lon1)\n",
    "    rLat1 = radians(lat1)\n",
    "    rLat2 = radians(lat2)\n",
    "    a = sin(dLat/2) * sin(dLat/2) + cos(rLat1) * cos(rLat2) * sin(dLon/2) * sin(dLon/2) \n",
    "    c = 2 * atan2(sqrt(a), sqrt(1-a))\n",
    "    d = R * c # Distance in km\n",
    "    e= d*1000 #distance in m\n",
    "    \n",
    "    return e\n"
   ]
  },
  {
   "cell_type": "markdown",
   "id": "continuing-clothing",
   "metadata": {},
   "source": [
    "## Stage 1: Remove non-pedestrian journeys\n",
    "\n",
    "We remove all non-pedestrian journeys for this study, by looking at the nickname of each participant, where the means of transport is indicated.\n",
    "\n",
    "Ex:  2018-11-05_sgv_1302_bus.csv"
   ]
  },
  {
   "cell_type": "markdown",
   "id": "charming-daniel",
   "metadata": {},
   "source": [
    "## Stage 2: Remove invalid journeys\n",
    "\n",
    "Remove all erroneous trajectories/journeys (few GPS locs. without a clear trajectory)"
   ]
  },
  {
   "cell_type": "markdown",
   "id": "bearing-camera",
   "metadata": {},
   "source": [
    "## Stage 3: Remove outliers"
   ]
  },
  {
   "cell_type": "markdown",
   "id": "naughty-watershed",
   "metadata": {},
   "source": [
    "We clean each journey from the possible outliers that may appear (specially at the initial/end of the trajectory) due to the gps connexion or so."
   ]
  },
  {
   "cell_type": "markdown",
   "id": "conservative-animal",
   "metadata": {},
   "source": [
    "## Stage 4: Linear Interpolation\n",
    "\n",
    "We are interested in to have all the data separated uniformly in time (1 second). For this reason, we interpolate linearly the data to predict the geo-locations at those \"temporal gaps\" where the time difference is greater than 1 second.\n",
    "    \n",
    "In other words, if two geolocations are separated by more than 1 second (for instance, two seconds) we perform a linear interpolation, creating the time in between with the new geolocation.\n",
    "    \n",
    "To do that, we must first convert the time column into index, then resample it to every 1 second, and fullfil the rows of geolocations that are missing predicting the values with a straight line.\n",
    "\n",
    "The final data-set for each user contains the data separated by one second and three new columns corresponding to the time difference between geo-locations, the Haversine/Euclidean distance and the instantaneous velocity\n"
   ]
  },
  {
   "cell_type": "code",
   "execution_count": 9,
   "id": "blank-reggae",
   "metadata": {},
   "outputs": [],
   "source": [
    "all_files = glob.glob(os.path.join(\"*.csv\")) #make list of paths for all the csv files (each user)\n",
    "\n",
    "for file in all_files:\n",
    "    df = pd.read_csv(file) #read the file     \n",
    "    df2=df.copy() \n",
    "\n",
    "    df2['time'] = pd.to_datetime(df2['time'])   # Time to datetime format\n",
    "    df2.index = df2['time']  # Then convert the column time into index\n",
    "\n",
    "    del df2['time']  # delete all the columns of the dataframe less the coordinates (latitude and longitude)\n",
    "    del df2['nickname']\n",
    "    del df2['At']\n",
    "    del df2['d']\n",
    "    del df2['v']\n",
    "\n",
    "    df2=df2.resample('1S').asfreq().interpolate()     # Resample the index of times every 1 second (1S) and interpolate linearly\n",
    "    df2.reset_index(level=0, inplace=True)            # the missing values of the latitude and longitude. Then reset index.\n",
    "\n",
    "    \n",
    "    At=[]     # We calculate again the time difference between geolocations, the Harvesine distance and the velocity.\n",
    "    distance=[]\n",
    "    for i in range(1,len(df2['time'])):\n",
    "        At.append((df2['time'][i]-df2['time'][i-1]).total_seconds())\n",
    "        dist=getDistanceFromLatLonInM(df2['latitude'][i-1],df2['longitude'][i-1],df2['latitude'][i],df2['longitude'][i])\n",
    "        distance.append(dist)\n",
    "\n",
    "    At.insert(len(At), np.nan)\n",
    "    distance.insert(len(distance), np.nan)\n",
    "\n",
    "    df2['At']=At\n",
    "    df2['d']=distance\n",
    "    df2['v']=df2['d']/df2['At']\n",
    "    \n",
    "    file2=os.path.splitext(file)[0]           # Save new .csv file for each user with the extension \"interpolated\"\n",
    "    #df2.to_csv(file2+'_interpolated.csv')"
   ]
  },
  {
   "cell_type": "code",
   "execution_count": null,
   "id": "placed-footwear",
   "metadata": {},
   "outputs": [],
   "source": []
  }
 ],
 "metadata": {
  "kernelspec": {
   "display_name": "Python 3",
   "language": "python",
   "name": "python3"
  },
  "language_info": {
   "codemirror_mode": {
    "name": "ipython",
    "version": 3
   },
   "file_extension": ".py",
   "mimetype": "text/x-python",
   "name": "python",
   "nbconvert_exporter": "python",
   "pygments_lexer": "ipython3",
   "version": "3.9.2"
  }
 },
 "nbformat": 4,
 "nbformat_minor": 5
}
